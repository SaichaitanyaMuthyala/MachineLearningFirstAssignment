{
  "nbformat": 4,
  "nbformat_minor": 0,
  "metadata": {
    "colab": {
      "provenance": []
    },
    "kernelspec": {
      "name": "python3",
      "display_name": "Python 3"
    },
    "language_info": {
      "name": "python"
    }
  },
  "cells": [
    {
      "cell_type": "code",
      "execution_count": 16,
      "metadata": {
        "colab": {
          "base_uri": "https://localhost:8080/"
        },
        "id": "KpSEElUzrFUa",
        "outputId": "16d8d2ef-2f3a-4aaa-f890-25c404b24910"
      },
      "outputs": [
        {
          "output_type": "stream",
          "name": "stdout",
          "text": [
            "[19, 19, 20, 22, 24, 24, 24, 25, 25, 26]\n",
            "min age 19\n",
            "max age 26\n",
            "Adding min and max to list [19, 19, 20, 22, 24, 24, 24, 25, 25, 26, 19, 26]\n",
            "Median: 23.0\n",
            "Average age:  27.3\n",
            "Range: 7\n"
          ]
        }
      ],
      "source": [
        "ages = [19, 22, 19, 24, 20, 25, 26, 24, 25, 24]\n",
        "age = sorted(ages)\n",
        "print(age)\n",
        "n=len(age)\n",
        "min=age[0]\n",
        "max= age[n-1]\n",
        "print(\"min age\",min)\n",
        "print(\"max age\", max)\n",
        "\n",
        "age.append(min)\n",
        "age.append(max)\n",
        "\n",
        "print(\"Adding min and max to list\",age)\n",
        "age = sorted(age)\n",
        "if n % 2 == 0:\n",
        "  median = (age[n//2 - 1] + age[n//2]) / 2\n",
        "else:\n",
        "  median = age[n//2]\n",
        "print(\"Median:\",median)\n",
        "\n",
        "avg = sum(age)/n\n",
        "print(\"Average age: \", avg)\n",
        "\n",
        "range = max - min\n",
        "print(\"Range:\", range)\n",
        "\n"
      ]
    },
    {
      "cell_type": "code",
      "source": [],
      "metadata": {
        "id": "O0PsIsK_XrYU"
      },
      "execution_count": null,
      "outputs": []
    },
    {
      "cell_type": "code",
      "source": [
        "dog = {}\n",
        "dog['name'] = 'Snoopy'\n",
        "dog['color'] = 'Golden'\n",
        "dog['breed'] = 'Golden Retrever'\n",
        "dog['legs'] = 4\n",
        "dog['age'] = 1\n",
        "print(\"Dog:\", dog)\n",
        "\n",
        "\n",
        "student = {\n",
        "    'first_name': 'Chay',\n",
        "    'last_name': 'Muthyala',\n",
        "    'gender': 'Male',\n",
        "    'age': 24,\n",
        "    'marital_status': 'Single',\n",
        "    'skills': ['React', 'Node'],\n",
        "    'country': 'USA',\n",
        "    'city': 'Kansas',\n",
        "    'address': '12344 Craig St'\n",
        "}\n",
        "print(\"Student:\", student)\n",
        "\n",
        "print(\"Length of student dictionary:\",len(student))\n",
        "\n",
        "skills= student['skills']\n",
        "\n",
        "print(\"Skills: \",skills)\n",
        "print(\"Data type of skills:\", type(skills))\n",
        "student['skills'].append('Python')\n",
        "print(\"Skills:\", student['skills'])\n",
        "keys = list(student.keys())\n",
        "print(\"Student keys:\", keys)\n",
        "values = list(student.values())\n",
        "print(\"Student values:\", values)\n",
        "\n"
      ],
      "metadata": {
        "colab": {
          "base_uri": "https://localhost:8080/"
        },
        "id": "umK92bZLrWjS",
        "outputId": "46136fd8-56f8-4f5b-919b-45fa7daeec0f"
      },
      "execution_count": 28,
      "outputs": [
        {
          "output_type": "stream",
          "name": "stdout",
          "text": [
            "Dog: {'name': 'Snoopy', 'color': 'Golden', 'breed': 'Golden Retrever', 'legs': 4, 'age': 1}\n",
            "Student: {'first_name': 'Chay', 'last_name': 'Muthyala', 'gender': 'Male', 'age': 24, 'marital_status': 'Single', 'skills': ['React', 'Node'], 'country': 'USA', 'city': 'Kansas', 'address': '12344 Craig St'}\n",
            "Length of student dictionary: 9\n",
            "Skills:  ['React', 'Node']\n",
            "Data type of skills: <class 'list'>\n",
            "Skills: ['React', 'Node', 'Python']\n",
            "Student keys: ['first_name', 'last_name', 'gender', 'age', 'marital_status', 'skills', 'country', 'city', 'address']\n",
            "Student values: ['Chay', 'Muthyala', 'Male', 24, 'Single', ['React', 'Node', 'Python'], 'USA', 'Kansas', '12344 Craig St']\n"
          ]
        }
      ]
    },
    {
      "cell_type": "code",
      "source": [
        "sisters = ('Aadya', 'Aayushi')\n",
        "brothers = ('Nithu', 'Jithu')\n",
        "\n",
        "siblings = sisters + brothers\n",
        "print(\"Siblings:\", siblings)\n",
        "\n",
        "num = len(siblings)\n",
        "print(\"Number of siblings:\", num)\n",
        "\n",
        "parents = ('Amma', 'Nana')\n",
        "family_members = siblings + parents\n",
        "print(\"Family members:\", family_members)\n",
        "\n"
      ],
      "metadata": {
        "colab": {
          "base_uri": "https://localhost:8080/"
        },
        "id": "dS8iWPrfyAFP",
        "outputId": "c6a342c7-5dc5-4b9a-8cf1-b61c64a2ee10"
      },
      "execution_count": 30,
      "outputs": [
        {
          "output_type": "stream",
          "name": "stdout",
          "text": [
            "Siblings: ('Aadya', 'Aayushi', 'Nithu', 'Jithu')\n",
            "Number of siblings: 4\n",
            "Family members: ('Aadya', 'Aayushi', 'Nithu', 'Jithu', 'Amma', 'Nana')\n"
          ]
        }
      ]
    },
    {
      "cell_type": "code",
      "source": [
        "# Initial sets and list\n",
        "it_companies = {'Facebook', 'Google', 'Microsoft', 'Apple', 'IBM', 'Oracle', 'Amazon'}\n",
        "A = {19, 22, 24, 20, 25, 26}\n",
        "B = {19, 22, 20, 25, 26, 24, 28, 27}\n",
        "age = [22, 19, 24, 25, 26, 24, 25, 24]\n",
        "\n",
        "# 1. Find the length of the set it_companies\n",
        "length_it_companies = len(it_companies)\n",
        "print(\"Length of it_companies:\", length_it_companies)\n",
        "\n",
        "# 2. Add 'Twitter' to it_companies\n",
        "it_companies.add('Twitter')\n",
        "print(\"it_companies after adding 'Twitter':\", it_companies)\n",
        "\n",
        "# 3. Insert multiple IT companies at once to the set it_companies\n",
        "new_companies = {'Netflix', 'Tesla', 'SpaceX'}\n",
        "it_companies.update(new_companies)\n",
        "print(\"it_companies after adding multiple companies:\", it_companies)\n",
        "\n",
        "# 4. Remove one of the companies from the set it_companies\n",
        "it_companies.remove('IBM')  # Assuming 'IBM' is the company to remove\n",
        "print(\"it_companies after removing 'IBM':\", it_companies)\n",
        "\n",
        "# 5. Difference between remove and discard\n",
        "# Example:\n",
        "it_companies.discard('NonExistentCompany')  # No error if the element is not found\n",
        "# it_companies.remove('NonExistentCompany')  # Raises KeyError if the element is not found\n",
        "\n",
        "# 6. Join A and B\n",
        "A_union_B = A.union(B)\n",
        "print(\"A union B:\", A_union_B)\n",
        "\n",
        "# 7. Find A intersection B\n",
        "A_intersection_B = A.intersection(B)\n",
        "print(\"A intersection B:\", A_intersection_B)\n",
        "\n",
        "# 8. Is A subset of B\n",
        "is_A_subset_B = A.issubset(B)\n",
        "print(\"Is A subset of B:\", is_A_subset_B)\n",
        "\n",
        "# 9. Are A and B disjoint sets\n",
        "are_A_B_disjoint = A.isdisjoint(B)\n",
        "print(\"Are A and B disjoint sets:\", are_A_B_disjoint)\n",
        "\n",
        "# 10. Join A with B and B with A\n",
        "A.update(B)\n",
        "print(\"A after joining with B:\", A)\n",
        "B.update(A)\n",
        "print(\"B after joining with A:\", B)\n",
        "\n",
        "# 11. Symmetric difference between A and B\n",
        "A = {19, 22, 24, 20, 25, 26}\n",
        "B = {19, 22, 20, 25, 26, 24, 28, 27}\n",
        "A_symmetric_difference_B = A.symmetric_difference(B)\n",
        "print(\"Symmetric difference between A and B:\", A_symmetric_difference_B)\n",
        "\n",
        "# 12. Delete the sets completely\n",
        "del it_companies\n",
        "del A\n",
        "del B\n",
        "\n",
        "# 13. Convert the ages to a set and compare the length of the list and the set\n",
        "age = [22, 19, 24, 25, 26, 24, 25, 24]\n",
        "age_set = set(age)\n",
        "length_age_list = len(age)\n",
        "length_age_set = len(age_set)\n",
        "print(\"Length of age list:\", length_age_list)\n",
        "print(\"Length of age set:\", length_age_set)\n"
      ],
      "metadata": {
        "colab": {
          "base_uri": "https://localhost:8080/"
        },
        "id": "i4CyCAHmzKrs",
        "outputId": "b158592d-ab51-44e8-8636-043937db96c8"
      },
      "execution_count": 31,
      "outputs": [
        {
          "output_type": "stream",
          "name": "stdout",
          "text": [
            "Length of it_companies: 7\n",
            "it_companies after adding 'Twitter': {'Amazon', 'Twitter', 'Apple', 'Microsoft', 'Facebook', 'Oracle', 'Google', 'IBM'}\n",
            "it_companies after adding multiple companies: {'SpaceX', 'Microsoft', 'Twitter', 'Facebook', 'Oracle', 'Amazon', 'Google', 'Netflix', 'Tesla', 'Apple', 'IBM'}\n",
            "it_companies after removing 'IBM': {'SpaceX', 'Microsoft', 'Twitter', 'Facebook', 'Oracle', 'Amazon', 'Google', 'Netflix', 'Tesla', 'Apple'}\n",
            "A union B: {19, 20, 22, 24, 25, 26, 27, 28}\n",
            "A intersection B: {19, 20, 22, 24, 25, 26}\n",
            "Is A subset of B: True\n",
            "Are A and B disjoint sets: False\n",
            "A after joining with B: {19, 20, 22, 24, 25, 26, 27, 28}\n",
            "B after joining with A: {19, 20, 22, 24, 25, 26, 27, 28}\n",
            "Symmetric difference between A and B: {27, 28}\n",
            "Length of age list: 8\n",
            "Length of age set: 5\n"
          ]
        }
      ]
    },
    {
      "cell_type": "code",
      "source": [
        "import math\n",
        "\n",
        "# Given radius\n",
        "radius = 30\n",
        "\n",
        "# Calculate the area of a circle\n",
        "_area_of_circle_ = math.pi * radius ** 2\n",
        "print(\"Area of the circle:\", _area_of_circle_)\n",
        "\n",
        "# Calculate the circumference of a circle\n",
        "_circum_of_circle_ = 2 * math.pi * radius\n",
        "print(\"Circumference of the circle:\", _circum_of_circle_)\n",
        "\n",
        "# Take radius as user input and calculate the area\n",
        "user_radius = float(input(\"Enter the radius of the circle: \"))\n",
        "_area_of_circle_user_input_ = math.pi * user_radius ** 2\n",
        "print(\"Area of the circle with radius\", user_radius, \"is:\", _area_of_circle_user_input_)\n"
      ],
      "metadata": {
        "colab": {
          "base_uri": "https://localhost:8080/"
        },
        "id": "F0ZNe6cJzteh",
        "outputId": "4b6c2272-b567-420f-d7df-3aea192df034"
      },
      "execution_count": 32,
      "outputs": [
        {
          "output_type": "stream",
          "name": "stdout",
          "text": [
            "Area of the circle: 2827.4333882308138\n",
            "Circumference of the circle: 188.49555921538757\n",
            "Enter the radius of the circle: 10\n",
            "Area of the circle with radius 10.0 is: 314.1592653589793\n"
          ]
        }
      ]
    },
    {
      "cell_type": "code",
      "source": [
        "# Given sentence\n",
        "sentence = \"I am a teacher and I love to inspire and teach people\"\n",
        "\n",
        "# Split the sentence into words\n",
        "words = sentence.split()\n",
        "print(\"List of words:\", words)\n",
        "\n",
        "# Convert the list of words to a set to get unique words\n",
        "unique_words = set(words)\n",
        "print(\"Unique words:\", unique_words)\n",
        "\n",
        "# Get the number of unique words\n",
        "num_unique_words = len(unique_words)\n",
        "print(\"Number of unique words:\", num_unique_words)\n"
      ],
      "metadata": {
        "colab": {
          "base_uri": "https://localhost:8080/"
        },
        "id": "Kf1GTHvVWOYe",
        "outputId": "42c89a2c-f160-455a-da81-dba413d19b1a"
      },
      "execution_count": 1,
      "outputs": [
        {
          "output_type": "stream",
          "name": "stdout",
          "text": [
            "List of words: ['I', 'am', 'a', 'teacher', 'and', 'I', 'love', 'to', 'inspire', 'and', 'teach', 'people']\n",
            "Unique words: {'a', 'I', 'and', 'teacher', 'to', 'teach', 'am', 'love', 'people', 'inspire'}\n",
            "Number of unique words: 10\n"
          ]
        }
      ]
    },
    {
      "cell_type": "code",
      "source": [
        "# Print the header with tab separation\n",
        "print(\"Name\\t\\tAge\\tCountry\\tCity\")\n",
        "\n",
        "# Print the data with tab separation\n",
        "print(\"Asabeneh\\t250\\tFinland\\tHelsinki\")\n"
      ],
      "metadata": {
        "colab": {
          "base_uri": "https://localhost:8080/"
        },
        "id": "lQPiDvnu0GOn",
        "outputId": "e22b52a2-0405-4c3c-c9aa-a99badab4bdd"
      },
      "execution_count": 2,
      "outputs": [
        {
          "output_type": "stream",
          "name": "stdout",
          "text": [
            "Name\t\tAge\tCountry\tCity\n",
            "Asabeneh\t250\tFinland\tHelsinki\n"
          ]
        }
      ]
    },
    {
      "cell_type": "code",
      "source": [
        "radius = 10\n",
        "area = 3.14 * radius ** 2\n",
        "formatted_string = \"The area of a circle with radius {} is {:.0f} meters square.\".format(radius, area)\n",
        "print(formatted_string)"
      ],
      "metadata": {
        "colab": {
          "base_uri": "https://localhost:8080/"
        },
        "id": "NHxApn8IW38A",
        "outputId": "bb4e20bf-1e9c-46d0-81b1-55aff70a2baa"
      },
      "execution_count": 3,
      "outputs": [
        {
          "output_type": "stream",
          "name": "stdout",
          "text": [
            "The area of a circle with radius 10 is 314 meters square.\n"
          ]
        }
      ]
    },
    {
      "cell_type": "code",
      "source": [
        "# Conversion factor from pounds to kilograms\n",
        "POUNDS_TO_KILOGRAMS = 0.453592\n",
        "\n",
        "# Function to convert weights from pounds to kilograms\n",
        "def convert_weights(weights):\n",
        "    return [round(weight * POUNDS_TO_KILOGRAMS, 2) for weight in weights]\n",
        "\n",
        "# Read the number of students\n",
        "N = int(input(\"Enter the number of students: \"))\n",
        "\n",
        "# Initialize the list to store weights in pounds\n",
        "weights_in_pounds = []\n",
        "\n",
        "# Read the weights of the students\n",
        "for i in range(N):\n",
        "    weight = float(input(f\"Enter the weight of student {i+1} in pounds: \"))\n",
        "    weights_in_pounds.append(weight)\n",
        "\n",
        "# Convert the weights to kilograms\n",
        "weights_in_kilograms = convert_weights(weights_in_pounds)\n",
        "\n",
        "# Print the converted weights\n",
        "print(\"Weights in pounds:\", weights_in_pounds)\n",
        "print(\"Weights in kilograms:\", weights_in_kilograms)\n"
      ],
      "metadata": {
        "colab": {
          "base_uri": "https://localhost:8080/"
        },
        "id": "6xQV6WKTXDlK",
        "outputId": "4d3cfd2d-53ed-426f-f1e7-5ef035049165"
      },
      "execution_count": 4,
      "outputs": [
        {
          "output_type": "stream",
          "name": "stdout",
          "text": [
            "Enter the number of students: 3\n",
            "Enter the weight of student 1 in pounds: 100\n",
            "Enter the weight of student 2 in pounds: 150\n",
            "Enter the weight of student 3 in pounds: 190\n",
            "Weights in pounds: [100.0, 150.0, 190.0]\n",
            "Weights in kilograms: [45.36, 68.04, 86.18]\n"
          ]
        }
      ]
    }
  ]
}